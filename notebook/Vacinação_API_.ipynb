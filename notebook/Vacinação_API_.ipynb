{
  "nbformat": 4,
  "nbformat_minor": 0,
  "metadata": {
    "kernelspec": {
      "display_name": "Python 3",
      "language": "python",
      "name": "python3"
    },
    "language_info": {
      "codemirror_mode": {
        "name": "ipython",
        "version": 3
      },
      "file_extension": ".py",
      "mimetype": "text/x-python",
      "name": "python",
      "nbconvert_exporter": "python",
      "pygments_lexer": "ipython3",
      "version": "3.7.6"
    },
    "colab": {
      "name": "Vacinação - API .ipynb",
      "provenance": [],
      "collapsed_sections": []
    }
  },
  "cells": [
    {
      "cell_type": "markdown",
      "metadata": {
        "id": "2fPblLV4vJMt"
      },
      "source": [
        "# Instalando bibliotecas"
      ]
    },
    {
      "cell_type": "code",
      "metadata": {
        "colab": {
          "base_uri": "https://localhost:8080/"
        },
        "id": "YwYJz4cwxjsj",
        "outputId": "3d7fe222-1d09-4851-9a4b-e6057c228d40"
      },
      "source": [
        "!pip install requests"
      ],
      "execution_count": 1,
      "outputs": [
        {
          "output_type": "stream",
          "text": [
            "Requirement already satisfied: requests in /usr/local/lib/python3.7/dist-packages (2.23.0)\n",
            "Requirement already satisfied: urllib3!=1.25.0,!=1.25.1,<1.26,>=1.21.1 in /usr/local/lib/python3.7/dist-packages (from requests) (1.24.3)\n",
            "Requirement already satisfied: chardet<4,>=3.0.2 in /usr/local/lib/python3.7/dist-packages (from requests) (3.0.4)\n",
            "Requirement already satisfied: certifi>=2017.4.17 in /usr/local/lib/python3.7/dist-packages (from requests) (2021.5.30)\n",
            "Requirement already satisfied: idna<3,>=2.5 in /usr/local/lib/python3.7/dist-packages (from requests) (2.10)\n"
          ],
          "name": "stdout"
        }
      ]
    },
    {
      "cell_type": "code",
      "metadata": {
        "id": "KK4y8SKPxjsr"
      },
      "source": [
        "import requests\n",
        "import pandas as pd\n",
        "import json\n",
        "import numpy as np\n",
        "import seaborn as sns\n",
        "import matplotlib.pyplot as plt\n",
        "import datetime\n",
        "from datetime import date"
      ],
      "execution_count": 3,
      "outputs": []
    },
    {
      "cell_type": "markdown",
      "metadata": {
        "id": "IniXLF2lvSuQ"
      },
      "source": [
        "# Criando função API"
      ]
    },
    {
      "cell_type": "code",
      "metadata": {
        "id": "hDeWQIG6ew3p"
      },
      "source": [
        "def buscar_vacina_aplicada_df(cidade, uf):\n",
        "  #Parâmetros \n",
        "  parameters = {'size':10000,  'query':{'bool':{'must':[\n",
        "                                                        {'match':{'estabelecimento_uf': uf.upper()}},\n",
        "                                                        {'match':{'estabelecimento_municipio_nome':cidade.upper()}}\n",
        "                                                         ]}}}\n",
        "  \n",
        "  #\n",
        "  response = requests.get(\"https://imunizacao-es.saude.gov.br/_search?scroll=1m&pretty\", \n",
        "                        auth=('imunizacao_public', 'qlto5t&7r_@+#Tlstigi'), json = parameters)\n",
        "  \n",
        "  scroll_id = response.json()['_scroll_id']\n",
        "\n",
        "  tamanho = len(response.json()['hits']['hits'])\n",
        "\n",
        "  print(tamanho)\n",
        "\n",
        "  vacinas_municipio = response.json()['hits']['hits']\n",
        "\n",
        "\n",
        "  while (tamanho !=0):\n",
        "\n",
        "    parameters_2 = {'scroll':'1m', 'scroll_id': scroll_id }\n",
        "\n",
        "    response_2 = requests.post(\"https://imunizacao-es.saude.gov.br/_search/scroll\", \n",
        "                            auth=('imunizacao_public', 'qlto5t&7r_@+#Tlstigi'), json = parameters_2)\n",
        "    \n",
        "    vacinas_municipio = vacinas_municipio + (response_2.json()['hits']['hits'])\n",
        "    \n",
        "    scroll_id_2 = response_2.json()['_scroll_id']\n",
        "\n",
        "    tamanho = len(response_2.json()['hits']['hits'])\n",
        "\n",
        "    print(tamanho)\n",
        "  \n",
        "\n",
        "  vacinas_municipio_df = pd.DataFrame(pd.DataFrame.from_dict(vacinas_municipio)['_source'].to_list())\n",
        "\n",
        "\n",
        "  return vacinas_municipio_df"
      ],
      "execution_count": 23,
      "outputs": []
    },
    {
      "cell_type": "code",
      "metadata": {
        "id": "9HmKPffAwccL"
      },
      "source": [
        ""
      ],
      "execution_count": null,
      "outputs": []
    }
  ]
}